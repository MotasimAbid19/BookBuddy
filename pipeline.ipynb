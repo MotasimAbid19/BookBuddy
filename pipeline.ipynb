{
 "cells": [
  {
   "cell_type": "code",
   "execution_count": 12,
   "metadata": {},
   "outputs": [],
   "source": [
    "import os\n",
    "import faiss\n",
    "import pickle\n",
    "import pdfplumber\n",
    "import numpy as np\n",
    "from sentence_transformers import SentenceTransformer\n",
    "from langchain.text_splitter import RecursiveCharacterTextSplitter"
   ]
  },
  {
   "cell_type": "code",
   "execution_count": null,
   "metadata": {},
   "outputs": [],
   "source": [
    "# Ensure FAISS index folder exists\n",
    "FAISS_PATH = \"faiss_index\"\n",
    "if not os.path.exists(FAISS_PATH):\n",
    "    os.makedirs(FAISS_PATH)"
   ]
  },
  {
   "cell_type": "code",
   "execution_count": null,
   "metadata": {},
   "outputs": [],
   "source": [
    "# Load PDF and extract text\n",
    "def load_pdf(pdf_path):\n",
    "    text = \"\"\n",
    "    with pdfplumber.open(pdf_path) as pdf:\n",
    "        for page in pdf.pages:\n",
    "            page_text = page.extract_text()\n",
    "            if page_text:\n",
    "                text += page_text + \"\\n\"\n",
    "    return text.strip()"
   ]
  },
  {
   "cell_type": "code",
   "execution_count": null,
   "metadata": {},
   "outputs": [],
   "source": [
    "\n",
    "# Initialize text splitter\n",
    "text_splitter = RecursiveCharacterTextSplitter(chunk_size=500, chunk_overlap=50)\n",
    "\n",
    "# Load embedding model\n",
    "model = SentenceTransformer(\"all-MiniLM-L6-v2\")"
   ]
  },
  {
   "cell_type": "code",
   "execution_count": null,
   "metadata": {},
   "outputs": [],
   "source": [
    "# Process book PDFs and store in FAISS\n",
    "def process_pdf(pdf_path):\n",
    "    text = load_pdf(pdf_path)\n",
    "    chunks = text_splitter.split_text(text)\n",
    "\n",
    "    # 🔴 Remove empty chunks\n",
    "    valid_chunks = [chunk for chunk in chunks if chunk.strip()]\n",
    "    if not valid_chunks:\n",
    "        print(f\"ERROR: No valid text found in {pdf_path}\")\n",
    "        return\n",
    "\n",
    "    # Generate embeddings\n",
    "    embeddings = model.encode(valid_chunks).astype(np.float32)\n",
    "\n",
    "    # Initialize FAISS index\n",
    "    index = faiss.IndexFlatL2(embeddings.shape[1])\n",
    "    index.add(embeddings)\n",
    "\n",
    "    # Save FAISS index and chunk metadata\n",
    "    faiss.write_index(index, os.path.join(FAISS_PATH, \"book_index.faiss\"))\n",
    "\n",
    "    with open(os.path.join(FAISS_PATH, \"metadata.pkl\"), \"wb\") as f:\n",
    "        pickle.dump(valid_chunks, f)\n",
    "\n",
    "    print(f\"✅ Stored {len(valid_chunks)} book embeddings in FAISS.\")"
   ]
  },
  {
   "cell_type": "code",
   "execution_count": null,
   "metadata": {},
   "outputs": [
    {
     "name": "stdout",
     "output_type": "stream",
     "text": [
      "✅ Stored 329 book embeddings in FAISS.\n"
     ]
    }
   ],
   "source": [
    "# Run pipeline\n",
    "if __name__ == \"__main__\":\n",
    "    process_pdf(\"booklist.pdf\")  # Change this to your actual book file"
   ]
  }
 ],
 "metadata": {
  "kernelspec": {
   "display_name": "venv",
   "language": "python",
   "name": "python3"
  },
  "language_info": {
   "codemirror_mode": {
    "name": "ipython",
    "version": 3
   },
   "file_extension": ".py",
   "mimetype": "text/x-python",
   "name": "python",
   "nbconvert_exporter": "python",
   "pygments_lexer": "ipython3",
   "version": "3.12.7"
  }
 },
 "nbformat": 4,
 "nbformat_minor": 2
}
